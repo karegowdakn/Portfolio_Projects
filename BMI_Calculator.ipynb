{
 "cells": [
  {
   "cell_type": "code",
   "execution_count": 6,
   "id": "8290688a-0779-4ff7-a482-94442649e756",
   "metadata": {},
   "outputs": [
    {
     "name": "stdin",
     "output_type": "stream",
     "text": [
      "Enter your Name: kg\n",
      "Enter a weight in Kilo Gram(KG): 51\n",
      "Enter a Height in CM: 170\n"
     ]
    },
    {
     "name": "stdout",
     "output_type": "stream",
     "text": [
      "17.6\n",
      "Hey kg, you are Underweight, its time to put some muscle on your body.\n"
     ]
    }
   ],
   "source": [
    "name = input(\"Enter your Name:\")\n",
    "weight = int(input(\"Enter a weight in Kilo Gram(KG):\"))\n",
    "height = float(input(\"Enter a Height in CM:\"))\n",
    "\n",
    "BMI = (weight) / ((height/100) * (height/100))\n",
    "\n",
    "print(\"{:.1f}\".format(round(BMI, 1)))\n",
    "\n",
    "if BMI>0:\n",
    "    if (BMI<18.5):\n",
    "        print(\"Hey \" + name + \", you are Underweight, its time to put some muscle on your body.\")\n",
    "    elif (BMI<=24.9):\n",
    "        print(\"Hey \" + name + \", you are Normal weight, So no need to worry.\")\n",
    "    elif (BMI<=29.9):\n",
    "        print(\"Hey \" + name + \", you are Overweight\")\n",
    "    elif (BMI<+34.9):\n",
    "        print(\"Hey \" + name + \", you are Obese\")\n",
    "    elif (BMI<+39.5):\n",
    "        print(\"Hey \" + name + \", you are Severly Obese\")\n",
    "    else:\n",
    "        print(\"Hey \" + name + \", you are Morbidly Obese\")\n",
    "else:\n",
    "    print(\"Enter valid input\")"
   ]
  },
  {
   "cell_type": "code",
   "execution_count": null,
   "id": "6f3fdc53-6b08-4448-9b01-0bbc1892e0ee",
   "metadata": {},
   "outputs": [],
   "source": []
  }
 ],
 "metadata": {
  "kernelspec": {
   "display_name": "Python 3 (ipykernel)",
   "language": "python",
   "name": "python3"
  },
  "language_info": {
   "codemirror_mode": {
    "name": "ipython",
    "version": 3
   },
   "file_extension": ".py",
   "mimetype": "text/x-python",
   "name": "python",
   "nbconvert_exporter": "python",
   "pygments_lexer": "ipython3",
   "version": "3.12.4"
  }
 },
 "nbformat": 4,
 "nbformat_minor": 5
}
