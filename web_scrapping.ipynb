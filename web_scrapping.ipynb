{
 "cells": [
  {
   "cell_type": "code",
   "execution_count": 3,
   "id": "9ba498c6-b154-49c6-a930-f2601d8f4a3e",
   "metadata": {},
   "outputs": [],
   "source": [
    "import bs4\n",
    "import requests\n",
    "import re"
   ]
  },
  {
   "cell_type": "code",
   "execution_count": 5,
   "id": "a18afce7-049a-41b9-9d23-82a881660c82",
   "metadata": {},
   "outputs": [],
   "source": [
    "url = \"https://en.wikipedia.org/wiki/List_of_largest_companies_in_the_United_States_by_revenue\"\n",
    "\n",
    "path = requests.get(url)\n",
    "\n",
    "soup = bs4.BeautifulSoup(path.text, 'html')"
   ]
  },
  {
   "cell_type": "code",
   "execution_count": 123,
   "id": "2a93d5e3-d54f-4f53-8976-de34ad841125",
   "metadata": {},
   "outputs": [],
   "source": [
    "table = soup.select('table', class_ =\"wikitable sortable\")[0]"
   ]
  },
  {
   "cell_type": "code",
   "execution_count": 33,
   "id": "e25bd950-6899-4f46-b139-4d9b5093ab90",
   "metadata": {},
   "outputs": [],
   "source": [
    "table_headers = [i.text.strip() for i in table.find_all('th')]"
   ]
  },
  {
   "cell_type": "code",
   "execution_count": 35,
   "id": "dcce0f72-5209-48c0-9a68-8e41d8ab22ee",
   "metadata": {},
   "outputs": [],
   "source": [
    "import pandas as pd"
   ]
  },
  {
   "cell_type": "code",
   "execution_count": 75,
   "id": "86ad60d8-36d0-4260-8edf-ffb2cb98e5d3",
   "metadata": {},
   "outputs": [],
   "source": [
    "df = pd.DataFrame(columns = table_headers)"
   ]
  },
  {
   "cell_type": "code",
   "execution_count": 101,
   "id": "bb403872-4b54-49dd-955d-8b58e7f242df",
   "metadata": {},
   "outputs": [],
   "source": [
    "column_data = table.find_all('tr')\n",
    "\n",
    "for row in column_data:\n",
    "    row_data = row.find_all('td')\n",
    "    if row_data:\n",
    "        ind_row_data = [data.text.strip() for data in row_data if data]\n",
    "        #print(ind_row_data)\n",
    "        length = len(df)\n",
    "        df.loc[length] = ind_row_data"
   ]
  },
  {
   "cell_type": "code",
   "execution_count": 135,
   "id": "6283844e-e1c7-4f8b-b5fc-d9a5318c1188",
   "metadata": {},
   "outputs": [],
   "source": [
    "#pd.options.display.max_rows = 999\n",
    "df.to_csv(r'C:\\Users\\DELL\\OneDrive - Informatics Publishing Ltd\\Documents\\KG\\python web scrapping\\output\\countries.csv', index = False)"
   ]
  },
  {
   "cell_type": "code",
   "execution_count": null,
   "id": "40021b2e-c7e8-43f6-ad34-25de10b586d6",
   "metadata": {},
   "outputs": [],
   "source": []
  }
 ],
 "metadata": {
  "kernelspec": {
   "display_name": "Python 3 (ipykernel)",
   "language": "python",
   "name": "python3"
  },
  "language_info": {
   "codemirror_mode": {
    "name": "ipython",
    "version": 3
   },
   "file_extension": ".py",
   "mimetype": "text/x-python",
   "name": "python",
   "nbconvert_exporter": "python",
   "pygments_lexer": "ipython3",
   "version": "3.12.4"
  }
 },
 "nbformat": 4,
 "nbformat_minor": 5
}
