{
 "cells": [
  {
   "cell_type": "code",
   "execution_count": 58,
   "id": "a7864534-4b1c-41ea-ba5b-a21c577123bd",
   "metadata": {},
   "outputs": [],
   "source": [
    "import os\n",
    "import shutil\n",
    "\n",
    "def organize_files_by_extension(source_dir):\n",
    "    # Ensure the source directory exists\n",
    "    if not os.path.exists(source_dir):\n",
    "        print(f\"Source directory '{source_dir}' does not exist.\")\n",
    "        return\n",
    "\n",
    "    # Iterate through all files in the source directory\n",
    "    for filename in os.listdir(source_dir):\n",
    "        # Check if the item is a file\n",
    "        if os.path.isfile(os.path.join(source_dir, filename)):\n",
    "            # Get the file extension\n",
    "            file_extension = filename.split('.')[-1] + ' files'\n",
    "            # Define the target directory based on the file type\n",
    "            target_dir = os.path.join(source_dir, file_extension)\n",
    "\n",
    "            # Create the target directory if it doesn't exist\n",
    "            os.makedirs(target_dir, exist_ok=True)\n",
    "\n",
    "            # Move the file to the respective folder\n",
    "            try:\n",
    "                shutil.move(os.path.join(source_dir, filename), os.path.join(target_dir, filename))\n",
    "            except: # exception as e\n",
    "                print(f\"Error moving file {filename}: {e}\")\n",
    " \n",
    "# Define the source directory\n",
    "source_directory = 'C:/Users/DELL/OneDrive/Documents/Alex The Analyst/Python_tutorials/'\n",
    "organize_files_by_extension(source_directory)"
   ]
  },
  {
   "cell_type": "code",
   "execution_count": null,
   "id": "e52ee108-399b-45a3-a3c8-2deb6ab8453b",
   "metadata": {},
   "outputs": [],
   "source": []
  },
  {
   "cell_type": "code",
   "execution_count": null,
   "id": "baa2d8d1-3f12-4049-b624-a422df6875b4",
   "metadata": {},
   "outputs": [],
   "source": []
  }
 ],
 "metadata": {
  "kernelspec": {
   "display_name": "Python 3 (ipykernel)",
   "language": "python",
   "name": "python3"
  },
  "language_info": {
   "codemirror_mode": {
    "name": "ipython",
    "version": 3
   },
   "file_extension": ".py",
   "mimetype": "text/x-python",
   "name": "python",
   "nbconvert_exporter": "python",
   "pygments_lexer": "ipython3",
   "version": "3.12.4"
  }
 },
 "nbformat": 4,
 "nbformat_minor": 5
}
